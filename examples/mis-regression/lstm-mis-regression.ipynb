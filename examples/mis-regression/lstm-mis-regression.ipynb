{
 "cells": [
  {
   "cell_type": "code",
   "execution_count": 1,
   "metadata": {},
   "source": [
    "import matplotlib.pyplot as plt\n",
    "import numpy as np\n",
    "import torch\n",
    "from torch import nn, optim\n",
    "\n",
    "from torchts.nn.loss import mis_loss\n",
    "from torchts.nn.model import TimeSeriesModel"
   ],
   "outputs": []
  },
  {
   "cell_type": "markdown",
   "metadata": {},
   "source": [
    "# Set random seed for reproducibility"
   ]
  },
  {
   "cell_type": "code",
   "execution_count": 2,
   "metadata": {},
   "source": [
    "seed = 0\n",
    "torch.manual_seed(seed)\n",
    "np.random.seed(seed)"
   ],
   "outputs": []
  },
  {
   "cell_type": "markdown",
   "metadata": {},
   "source": [
    "# Generate data"
   ]
  },
  {
   "cell_type": "code",
   "execution_count": 3,
   "metadata": {},
   "source": [
    "# generate linear time series data with some noise\n",
    "n = 200\n",
    "x_max = 10\n",
    "slope = 2\n",
    "scale = 2\n",
    "\n",
    "x = torch.from_numpy(np.linspace(-x_max, x_max, n).reshape(-1, 1).astype(np.float32))\n",
    "y = slope * x + np.random.normal(0, scale, n).reshape(-1, 1).astype(np.float32)\n",
    "\n",
    "plt.plot(x, y)\n",
    "plt.show()"
   ],
   "outputs": []
  },
  {
   "cell_type": "markdown",
   "metadata": {},
   "source": [
    "# Define model that predicts confidence intervals"
   ]
  },
  {
   "cell_type": "code",
   "execution_count": 4,
   "metadata": {},
   "source": [
    "class IntervalLSTM(TimeSeriesModel):\n",
    "    def __init__(\n",
    "        self, input_size, output_size, hidden_size, optimizer, interval=0.95, **kwargs\n",
    "    ):\n",
    "        super().__init__(\n",
    "            optimizer,\n",
    "            criterion=mis_loss,\n",
    "            criterion_args={\"interval\": interval},\n",
    "            **kwargs\n",
    "        )\n",
    "        self.lstm = nn.ModuleList(\n",
    "            [nn.LSTMCell(input_size, hidden_size) for _ in range(output_size)]\n",
    "        )\n",
    "        self.linear = nn.ModuleList(\n",
    "            [nn.Linear(hidden_size, 2) for _ in range(output_size)]\n",
    "        )\n",
    "\n",
    "    def forward(self, x, y=None, batches_seen=None):\n",
    "        hidden, _ = zip(*[m(x) for m in self.lstm])\n",
    "        out = [m(h) for m, h in zip(self.linear, hidden)]\n",
    "        return torch.hstack(out)"
   ],
   "outputs": []
  },
  {
   "cell_type": "code",
   "execution_count": 5,
   "metadata": {},
   "source": [
    "input_size = 1\n",
    "output_size = 1\n",
    "hidden_size = 16\n",
    "interval = 0.95\n",
    "optimizer = optim.Adam\n",
    "optimizer_args = {\"lr\": 0.005}\n",
    "max_epochs = 100\n",
    "batch_size = 10\n",
    "\n",
    "model = IntervalLSTM(\n",
    "    input_size,\n",
    "    output_size,\n",
    "    hidden_size,\n",
    "    optimizer,\n",
    "    interval=interval,\n",
    "    optimizer_args=optimizer_args,\n",
    ")"
   ],
   "outputs": []
  },
  {
   "cell_type": "markdown",
   "metadata": {},
   "source": [
    "# Train model to predict confidence interval"
   ]
  },
  {
   "cell_type": "code",
   "execution_count": 6,
   "metadata": {},
   "source": [
    "# train model\n",
    "model.fit(x, y, max_epochs=max_epochs, batch_size=batch_size)\n",
    "\n",
    "# inference\n",
    "y_preds = model.predict(x)"
   ],
   "outputs": []
  },
  {
   "cell_type": "code",
   "execution_count": 7,
   "metadata": {},
   "source": [
    "plt.plot(x, y, label=\"y_true\")\n",
    "plt.plot(x, y_preds, label=[\"lower\", \"upper\"])\n",
    "plt.legend()\n",
    "plt.show()"
   ],
   "outputs": []
  },
  {
   "cell_type": "markdown",
   "metadata": {},
   "source": [
    "# Add second response variable"
   ]
  },
  {
   "cell_type": "code",
   "execution_count": 8,
   "metadata": {},
   "source": [
    "y_max = slope * x_max\n",
    "y2 = 2 * y_max / (1 + np.exp(-x)) - y_max\n",
    "y2 += np.random.normal(0, scale, n).reshape(-1, 1).astype(np.float32)\n",
    "y = torch.hstack([y, y2])\n",
    "\n",
    "plt.figure(figsize=(12, 4))\n",
    "plt.subplot(1, 2, 1)\n",
    "plt.plot(x, y[:, 0])\n",
    "plt.subplot(1, 2, 2)\n",
    "plt.plot(x, y[:, 1])\n",
    "plt.show()"
   ],
   "outputs": []
  },
  {
   "cell_type": "markdown",
   "metadata": {},
   "source": [
    "# Train model to predict two confidence intervals"
   ]
  },
  {
   "cell_type": "code",
   "execution_count": 9,
   "metadata": {},
   "source": [
    "output_size = 2\n",
    "\n",
    "model = IntervalLSTM(\n",
    "    input_size,\n",
    "    output_size,\n",
    "    hidden_size,\n",
    "    optimizer,\n",
    "    interval=interval,\n",
    "    optimizer_args=optimizer_args,\n",
    ")"
   ],
   "outputs": []
  },
  {
   "cell_type": "code",
   "execution_count": 10,
   "metadata": {},
   "source": [
    "# train model\n",
    "model.fit(x, y, max_epochs=max_epochs, batch_size=batch_size)\n",
    "\n",
    "# inference\n",
    "y_preds = model.predict(x)"
   ],
   "outputs": []
  },
  {
   "cell_type": "code",
   "execution_count": 11,
   "metadata": {},
   "source": [
    "plt.figure(figsize=(12, 4))\n",
    "\n",
    "plt.subplot(1, 2, 1)\n",
    "plt.plot(x, y[:, 0], label=\"y_true\")\n",
    "plt.plot(x, y_preds[:, :2], label=[\"lower\", \"upper\"])\n",
    "plt.legend()\n",
    "\n",
    "plt.subplot(1, 2, 2)\n",
    "plt.plot(x, y[:, 1], label=\"y_true\")\n",
    "plt.plot(x, y_preds[:, 2:], label=[\"lower\", \"upper\"])\n",
    "plt.legend()\n",
    "\n",
    "plt.show()"
   ],
   "outputs": []
  }
 ],
 "metadata": {
  "interpreter": {
   "hash": "6a69466490a3cd78f8127aa86c71c97a1b8be0ac73f00bec705cc872d22503a4"
  },
  "kernelspec": {
   "display_name": "Python 3.8.2 64-bit ('venv': venv)",
   "language": "python",
   "name": "python3"
  },
  "language_info": {
   "codemirror_mode": {
    "name": "ipython",
    "version": 3
   },
   "file_extension": ".py",
   "mimetype": "text/x-python",
   "name": "python",
   "nbconvert_exporter": "python",
   "pygments_lexer": "ipython3",
   "version": "3.8.6"
  },
  "orig_nbformat": 4
 },
 "nbformat": 4,
 "nbformat_minor": 2
}
