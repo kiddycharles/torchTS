{
 "cells": [
  {
   "cell_type": "code",
   "execution_count": 1,
   "metadata": {},
   "source": [
    "import torch\n",
    "import numpy as np\n",
    "import matplotlib.pyplot as plt\n",
    "\n",
    "from torchts.nn.loss import quantile_loss\n",
    "from torchts.nn.model import TimeSeriesModel\n",
    "from torchts.nn.models.seq2seq import Encoder, Decoder, Seq2Seq "
   ],
   "outputs": []
  },
  {
   "cell_type": "markdown",
   "metadata": {},
   "source": [
    "# Generate dataset"
   ]
  },
  {
   "cell_type": "code",
   "execution_count": 2,
   "metadata": {},
   "source": [
    "# generate linear time series data with some noise\n",
    "x = np.linspace(-10,10,100).reshape(-1,1).astype(np.float32)\n",
    "y = 2*x+1 + np.random.normal(0, 2, x.shape).reshape(-1,1).astype(np.float32)\n",
    "plt.plot(x.flatten(), y.flatten())\n",
    "plt.show()"
   ],
   "outputs": []
  },
  {
   "cell_type": "markdown",
   "metadata": {},
   "source": [
    "# Enable uncertainty quantification in LSTM model"
   ]
  },
  {
   "cell_type": "code",
   "execution_count": 3,
   "metadata": {},
   "source": [
    "class LSTM(TimeSeriesModel):\n",
    "    def __init__(self, input_size, output_size, optimizer, hidden_size=8, batch_size=10, **kwargs):\n",
    "        super(LSTM, self).__init__(optimizer, **kwargs)\n",
    "        self.hidden_size = hidden_size\n",
    "        self.batch_size = batch_size\n",
    "\n",
    "        self.lstm = torch.nn.LSTMCell(input_size, hidden_size)\n",
    "        self.linear = torch.nn.Linear(hidden_size, output_size)\n",
    "\n",
    "    def init_hidden(self):\n",
    "        # initialize the hidden state and the cell state to zeros\n",
    "        return (torch.zeros(self.batch_size, self.hidden_size),\n",
    "                torch.zeros(self.batch_size, self.hidden_size))\n",
    "\n",
    "    def forward(self, x, y=None, batches_seen=None):\n",
    "        hc = self.init_hidden()\n",
    "        \n",
    "        hidden, _ = self.lstm(x, hc)\n",
    "        out = self.linear(hidden)\n",
    "        return out"
   ],
   "outputs": []
  },
  {
   "cell_type": "code",
   "execution_count": 4,
   "metadata": {},
   "source": [
    "inputDim = 1       \n",
    "outputDim = 1 \n",
    "optimizer_args = {\"lr\": 0.01}\n",
    "quantiles = [0.025, 0.5, 0.975]\n",
    "\n",
    "batch_size = 10\n",
    "models = {quantile: LSTM(\n",
    "    inputDim, \n",
    "    outputDim, \n",
    "    torch.optim.Adam,\n",
    "    criterion=quantile_loss, \n",
    "    criterion_args={\"quantile\": quantile}, \n",
    "    optimizer_args=optimizer_args\n",
    "    ) for quantile in quantiles}"
   ],
   "outputs": []
  },
  {
   "cell_type": "code",
   "execution_count": 5,
   "metadata": {},
   "source": [
    "for _, model in models.items():\n",
    "    # train model\n",
    "    model.fit(\n",
    "        torch.from_numpy(x),\n",
    "        torch.from_numpy(y),\n",
    "        max_epochs=100,\n",
    "        batch_size=batch_size,\n",
    "    )"
   ],
   "outputs": []
  },
  {
   "cell_type": "code",
   "execution_count": 6,
   "metadata": {},
   "source": [
    "# inference\n",
    "y_preds = {}\n",
    "for x_batch in torch.split(torch.from_numpy(x), batch_size):\n",
    "    for q, model in models.items():\n",
    "        if q not in y_preds:\n",
    "            y_preds[q] = [model.predict(x_batch).detach().numpy()]\n",
    "        else:\n",
    "            y_preds[q].append(model.predict(x_batch).detach().numpy())\n",
    "y_preds = {q: np.concatenate(y_pred) for q, y_pred in y_preds.items()}"
   ],
   "outputs": []
  },
  {
   "cell_type": "code",
   "execution_count": 8,
   "metadata": {},
   "source": [
    "plt.plot(x.flatten(), y_preds[0.025].flatten(), label=\"p=0.025\")\n",
    "plt.plot(x.flatten(), y_preds[0.5].flatten(), label=\"p=0.5\")\n",
    "plt.plot(x.flatten(), y_preds[0.975].flatten(), label=\"p=0.975\")\n",
    "plt.plot(x.flatten(), y.flatten(), label=\"y_true\")\n",
    "plt.legend()\n",
    "plt.show()"
   ],
   "outputs": []
  },
  {
   "cell_type": "code",
   "execution_count": null,
   "metadata": {},
   "source": [],
   "outputs": []
  }
 ],
 "metadata": {
  "interpreter": {
   "hash": "6a69466490a3cd78f8127aa86c71c97a1b8be0ac73f00bec705cc872d22503a4"
  },
  "kernelspec": {
   "display_name": "Python 3.8.2 64-bit ('venv': venv)",
   "language": "python",
   "name": "python3"
  },
  "language_info": {
   "codemirror_mode": {
    "name": "ipython",
    "version": 3
   },
   "file_extension": ".py",
   "mimetype": "text/x-python",
   "name": "python",
   "nbconvert_exporter": "python",
   "pygments_lexer": "ipython3",
   "version": "3.8.2"
  },
  "orig_nbformat": 4
 },
 "nbformat": 4,
 "nbformat_minor": 2
}
