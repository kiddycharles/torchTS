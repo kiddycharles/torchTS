{
 "cells": [
  {
   "metadata": {},
   "cell_type": "markdown",
   "source": [
    "# Introduction\n",
    "\n",
    "It is common nowadays to find data in the form of a sequence of images. The most typical example is video at social networks such as YouTube, Facebook and Instagram. Other classical examples are video calls, movies and trailers, satellites images and security cameras. \n",
    "We will show you how to code a ConvLSTM model for frame prediction using MovingMNIST dataset."
   ],
   "id": "7a201cec198126a2"
  },
  {
   "metadata": {},
   "cell_type": "markdown",
   "source": "## Libraries",
   "id": "ff047564c1ca3bb3"
  },
  {
   "metadata": {
    "ExecuteTime": {
     "end_time": "2024-05-15T08:33:38.136090Z",
     "start_time": "2024-05-15T08:33:35.881481Z"
    }
   },
   "cell_type": "code",
   "source": [
    "# import libraries\n",
    "import os\n",
    "import matplotlib.pyplot as plt\n",
    "import torch\n",
    "import torchvision\n",
    "from torch.nn import functional as F\n",
    "from torch.utils.data import DataLoader\n",
    "import pytorch_lightning as pl\n",
    "from pytorch_lightning import Trainer\n",
    "from multiprocessing import Process\n",
    "\n",
    "from torchts.utils.start_tensorboard import run_tensorboard\n",
    "from torchts.nn.models.ConvLSTM import EncoderDecoderConvLSTM\n",
    "from data.MovingMNIST import MovingMNIST"
   ],
   "id": "initial_id",
   "outputs": [],
   "execution_count": 1
  },
  {
   "metadata": {},
   "cell_type": "markdown",
   "source": [
    "## Dataloader\n",
    "The dataloader script f"
   ],
   "id": "36a92e9780f40cc6"
  },
  {
   "metadata": {},
   "cell_type": "code",
   "outputs": [],
   "execution_count": null,
   "source": "",
   "id": "8c4b3e5ad1978cf3"
  }
 ],
 "metadata": {
  "kernelspec": {
   "display_name": "Python 3",
   "language": "python",
   "name": "python3"
  },
  "language_info": {
   "codemirror_mode": {
    "name": "ipython",
    "version": 2
   },
   "file_extension": ".py",
   "mimetype": "text/x-python",
   "name": "python",
   "nbconvert_exporter": "python",
   "pygments_lexer": "ipython2",
   "version": "2.7.6"
  }
 },
 "nbformat": 4,
 "nbformat_minor": 5
}
