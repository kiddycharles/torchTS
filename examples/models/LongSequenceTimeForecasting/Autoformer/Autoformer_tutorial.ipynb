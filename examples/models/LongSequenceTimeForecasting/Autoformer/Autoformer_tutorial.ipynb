{
 "cells": [
  {
   "cell_type": "code",
   "id": "initial_id",
   "metadata": {
    "collapsed": true,
    "ExecuteTime": {
     "end_time": "2024-06-20T04:36:46.863062Z",
     "start_time": "2024-06-20T04:36:44.388394Z"
    }
   },
   "source": [
    "from argparse import Namespace\n",
    "import lightning as L\n",
    "import torch\n",
    "from torchts.exp.lightning_exp import LightningExpMain"
   ],
   "outputs": [],
   "execution_count": 1
  },
  {
   "metadata": {
    "ExecuteTime": {
     "end_time": "2024-06-20T04:36:46.868863Z",
     "start_time": "2024-06-20T04:36:46.864234Z"
    }
   },
   "cell_type": "code",
   "source": [
    "args = Namespace(\n",
    "    model='Autoformer',\n",
    "    data='ETTh1',\n",
    "    root_path='../../../dataset/ETT-small',\n",
    "    data_path='ETTh1.csv',\n",
    "    features='MS',\n",
    "    target='OT',\n",
    "    freq='h',\n",
    "    checkpoints='./informer_checkpoints',\n",
    "    seq_len=96,\n",
    "    label_len=48,\n",
    "    pred_len=24,\n",
    "    enc_in=7,\n",
    "    dec_in=7,\n",
    "    c_out=7,\n",
    "    factor=5,\n",
    "    d_model=512,\n",
    "    n_heads=8,\n",
    "    e_layers=2,\n",
    "    d_layers=1,\n",
    "    d_ff=2048,\n",
    "    dropout=0.05,\n",
    "    attn='prob',\n",
    "    embed='timeF',\n",
    "    activation='gelu',\n",
    "    distil=True,\n",
    "    output_attention=False,\n",
    "    mix=True,\n",
    "    padding=0,\n",
    "    batch_size=32,\n",
    "    learning_rate=1e-4,\n",
    "    loss='mse',\n",
    "    lradj='type1',\n",
    "    use_amp=False,\n",
    "    num_workers=0,\n",
    "    itr=1,\n",
    "    train_epochs=5,\n",
    "    patience=5,\n",
    "    des='exp',\n",
    "    use_gpu=True if torch.cuda.is_available() else False,\n",
    "    gpu=0,\n",
    "    use_multi_gpu=False,\n",
    "    devices='0,1,2,3',\n",
    "    embed_type=0,\n",
    "    train_only=False\n",
    ")"
   ],
   "id": "b6134b3e76ea15ad",
   "outputs": [],
   "execution_count": 2
  },
  {
   "metadata": {
    "ExecuteTime": {
     "end_time": "2024-06-20T04:36:46.873494Z",
     "start_time": "2024-06-20T04:36:46.870243Z"
    }
   },
   "cell_type": "code",
   "source": [
    "from lightning.pytorch.callbacks import ModelCheckpoint\n",
    "# Init ModelCheckpoint callback, monitoring 'val_loss'\n",
    "checkpoint_callback = ModelCheckpoint(monitor=\"val_loss\")"
   ],
   "id": "4256eba22fd0f443",
   "outputs": [],
   "execution_count": 3
  },
  {
   "metadata": {
    "jupyter": {
     "is_executing": true
    },
    "ExecuteTime": {
     "start_time": "2024-06-20T04:36:46.874582Z"
    }
   },
   "cell_type": "code",
   "source": [
    "model = LightningExpMain(args)\n",
    "# Add your callback to the callbacks list\n",
    "trainer = L.Trainer(accelerator='cpu', max_epochs=args.train_epochs, logger=True, callbacks=[checkpoint_callback],\n",
    "                    enable_checkpointing=True,\n",
    "                    )\n",
    "trainer.fit(model)\n",
    "trainer.test(model)\n",
    "trainer.save_checkpoint('./informer_checkpoints')"
   ],
   "id": "a0189ec4c81b035a",
   "outputs": [
    {
     "name": "stderr",
     "output_type": "stream",
     "text": [
      "GPU available: True (mps), used: False\n",
      "TPU available: False, using: 0 TPU cores\n",
      "IPU available: False, using: 0 IPUs\n",
      "HPU available: False, using: 0 HPUs\n",
      "\n",
      "  | Name      | Type    | Params\n",
      "--------------------------------------\n",
      "0 | model     | Model   | 11.3 M\n",
      "1 | criterion | MSELoss | 0     \n",
      "--------------------------------------\n",
      "11.3 M    Trainable params\n",
      "0         Non-trainable params\n",
      "11.3 M    Total params\n",
      "45.312    Total estimated model params size (MB)\n"
     ]
    },
    {
     "name": "stdout",
     "output_type": "stream",
     "text": [
      "train 8521\n",
      "val 2857\n",
      "test 2857\n"
     ]
    },
    {
     "data": {
      "text/plain": [
       "Sanity Checking: |          | 0/? [00:00<?, ?it/s]"
      ],
      "application/vnd.jupyter.widget-view+json": {
       "version_major": 2,
       "version_minor": 0,
       "model_id": "42fb25ed6d4c462981f423c0210c8c7e"
      }
     },
     "metadata": {},
     "output_type": "display_data"
    },
    {
     "data": {
      "text/plain": [
       "Training: |          | 0/? [00:00<?, ?it/s]"
      ],
      "application/vnd.jupyter.widget-view+json": {
       "version_major": 2,
       "version_minor": 0,
       "model_id": "2feb6c9e1678462c9df20dece7f78ab8"
      }
     },
     "metadata": {},
     "output_type": "display_data"
    }
   ],
   "execution_count": null
  },
  {
   "metadata": {
    "jupyter": {
     "is_executing": true
    }
   },
   "cell_type": "code",
   "source": [
    "for i, (path, _) in enumerate(trainer.checkpoint_callback.best_k_models.items()):\n",
    "    m = model.load_from_checkpoint(path)\n",
    "    m.transformer.save_pretrained(f'{i}th_best.pt')"
   ],
   "id": "3ceea860481f4d69",
   "outputs": [],
   "execution_count": null
  }
 ],
 "metadata": {
  "kernelspec": {
   "display_name": "Python 3",
   "language": "python",
   "name": "python3"
  },
  "language_info": {
   "codemirror_mode": {
    "name": "ipython",
    "version": 2
   },
   "file_extension": ".py",
   "mimetype": "text/x-python",
   "name": "python",
   "nbconvert_exporter": "python",
   "pygments_lexer": "ipython2",
   "version": "2.7.6"
  }
 },
 "nbformat": 4,
 "nbformat_minor": 5
}
