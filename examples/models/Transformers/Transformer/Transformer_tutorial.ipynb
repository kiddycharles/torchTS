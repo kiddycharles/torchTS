{
 "cells": [
  {
   "cell_type": "code",
   "execution_count": null,
   "id": "initial_id",
   "metadata": {
    "collapsed": true
   },
   "outputs": [],
   "source": [
    "from argparse import Namespace\n",
    "import lightning as L\n",
    "import torch\n",
    "from torchts.exp.lightning_exp import LightningExpMain"
   ]
  },
  {
   "metadata": {},
   "cell_type": "code",
   "outputs": [],
   "execution_count": null,
   "source": [
    "args = Namespace(\n",
    "    model='Informer',\n",
    "    data='ETTh1',\n",
    "    root_path='../../examples/dataset/ETT-small',\n",
    "    data_path='ETTh1.csv',\n",
    "    features='MS',\n",
    "    target='OT',\n",
    "    freq='h',\n",
    "    checkpoints='./informer_checkpoints',\n",
    "    seq_len=96,\n",
    "    label_len=48,\n",
    "    pred_len=24,\n",
    "    enc_in=7,\n",
    "    dec_in=7,\n",
    "    c_out=7,\n",
    "    factor=5,\n",
    "    d_model=512,\n",
    "    n_heads=8,\n",
    "    e_layers=2,\n",
    "    d_layers=1,\n",
    "    d_ff=2048,\n",
    "    dropout=0.05,\n",
    "    attn='prob',\n",
    "    embed='timeF',\n",
    "    activation='gelu',\n",
    "    distil=True,\n",
    "    output_attention=False,\n",
    "    mix=True,\n",
    "    padding=0,\n",
    "    batch_size=32,\n",
    "    learning_rate=1e-4,\n",
    "    loss='mse',\n",
    "    lradj='type1',\n",
    "    use_amp=False,\n",
    "    num_workers=0,\n",
    "    itr=1,\n",
    "    train_epochs=5,\n",
    "    patience=5,\n",
    "    des='exp',\n",
    "    use_gpu=True if torch.cuda.is_available() else False,\n",
    "    gpu=0,\n",
    "    use_multi_gpu=False,\n",
    "    devices='0,1,2,3',\n",
    "    embed_type=0,\n",
    "    train_only=False\n",
    ")"
   ],
   "id": "b6134b3e76ea15ad"
  },
  {
   "metadata": {},
   "cell_type": "code",
   "outputs": [],
   "execution_count": null,
   "source": [
    "model = LightningExpMain(args)\n",
    "trainer = L.Trainer(accelerator='cpu', max_epochs=args.train_epochs, logger=True, checkpoint_callback=True, enable_progress_bar=True)\n",
    "trainer.fit(model)\n",
    "trainer.test(model)\n",
    "trainer.save_checkpoint('./informer_checkpoints')\n",
    "for i, (path, _) in enumerate(trainer.checkpoint_callback.best_k_models.items()):\n",
    "    m = model.load_from_checkpoint(path)\n",
    "    m.transformer.save_pretrained(f'{i}th_best.pt')"
   ],
   "id": "a0189ec4c81b035a"
  }
 ],
 "metadata": {
  "kernelspec": {
   "display_name": "Python 3",
   "language": "python",
   "name": "python3"
  },
  "language_info": {
   "codemirror_mode": {
    "name": "ipython",
    "version": 2
   },
   "file_extension": ".py",
   "mimetype": "text/x-python",
   "name": "python",
   "nbconvert_exporter": "python",
   "pygments_lexer": "ipython2",
   "version": "2.7.6"
  }
 },
 "nbformat": 4,
 "nbformat_minor": 5
}
