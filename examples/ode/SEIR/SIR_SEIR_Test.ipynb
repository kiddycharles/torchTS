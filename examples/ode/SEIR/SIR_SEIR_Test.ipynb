{
 "cells": [
  {
   "cell_type": "markdown",
   "metadata": {},
   "source": [
    "In this notebook, we run a numerical simulation using the SIR equation:\n",
    "\n",
    "$$s'=-\\gamma si$$\n",
    "$$i'=\\mu si-\\alpha i$$\n",
    "$$r'=\\alpha i$$\n",
    "\n",
    "We then train the ODESolver model on the SEIR equation:\n",
    "\n",
    "$$s'=-\\gamma si$$\n",
    "$$e'=\\gamma si - \\mu e$$\n",
    "$$i'=\\mu e-\\alpha i$$\n",
    "$$r'=\\alpha i$$\n",
    "\n",
    "The parameters we're estimating are: $\\gamma, \\mu, \\alpha$"
   ]
  },
  {
   "cell_type": "code",
   "execution_count": 1,
   "metadata": {},
   "source": [
    "import sys\n",
    "import torch\n",
    "\n",
    "try:\n",
    "    from torchts.nn.models.ode import ODESolver\n",
    "    from torchts.utils.data import generate_ode_dataset\n",
    "except:\n",
    "    sys.path.append(\"../../../\")\n",
    "    from torchts.nn.models.ode import ODESolver\n",
    "    from torchts.utils.data import generate_ode_dataset\n",
    "\n",
    "import matplotlib.pyplot as plt"
   ],
   "outputs": []
  },
  {
   "cell_type": "code",
   "execution_count": 2,
   "metadata": {},
   "source": [
    "# SIR equations\n",
    "dt = 0.01\n",
    "\n",
    "def s_prime(prev_val, coeffs):\n",
    "    return - coeffs[\"g\"]*prev_val[\"s\"]*prev_val[\"i\"]\n",
    "\n",
    "def i_prime(prev_val, coeffs):\n",
    "    return coeffs[\"m\"]*prev_val[\"s\"]*prev_val[\"i\"] - coeffs[\"a\"]*prev_val[\"i\"]\n",
    "\n",
    "def r_prime(prev_val, coeffs):\n",
    "    return coeffs[\"a\"]*prev_val[\"i\"]\n",
    "\n",
    "ode = {\"s\": s_prime, \"i\": i_prime, \"r\": r_prime}\n",
    "\n",
    "# Initial conditions [0,0,0]\n",
    "ode_init = {\"s\": 0.1, \"i\": 0.2, \"r\": 0}\n",
    "\n",
    "# Constants (Parameters)\n",
    "ode_coeffs = {\"a\": 0.1, \"g\": 0.3, \"m\": 0.2}\n"
   ],
   "outputs": []
  },
  {
   "cell_type": "markdown",
   "metadata": {},
   "source": [
    "# 4th Order Runge-Kutta - Data Generation for nt = 1000"
   ]
  },
  {
   "cell_type": "code",
   "execution_count": 3,
   "metadata": {},
   "source": [
    "ode_solver = ODESolver(\n",
    "    ode=ode,\n",
    "    init_vars=ode_init,\n",
    "    init_coeffs=ode_coeffs,\n",
    "    dt=dt,\n",
    "    solver=\"rk4\",\n",
    "    optimizer=torch.optim.SGD,\n",
    "    optimizer_args={\"lr\": 0.01}\n",
    ")\n",
    "\n",
    "result = ode_solver(1000)"
   ],
   "outputs": []
  },
  {
   "cell_type": "code",
   "execution_count": 4,
   "metadata": {},
   "source": [
    "result_np = result.detach().numpy() # Convert to numpy array\n",
    "\n",
    "# 2D plots\n",
    "plt.plot(result_np[:,0])\n",
    "plt.plot(result_np[:,1])\n",
    "plt.plot(result_np[:,2])\n",
    "\n",
    "plt.legend([\"S\", \"I\", \"R\"])\n",
    "\n",
    "plt.show()"
   ],
   "outputs": []
  },
  {
   "cell_type": "markdown",
   "metadata": {},
   "source": [
    "# Runge-Kutta method for training"
   ]
  },
  {
   "cell_type": "code",
   "execution_count": 5,
   "metadata": {},
   "source": [
    "# SEIR equations\n",
    "dt = 0.01\n",
    "\n",
    "def s_prime(prev_val, coeffs):\n",
    "    return - coeffs[\"g\"]*prev_val[\"s\"]*prev_val[\"i\"]\n",
    "\n",
    "def e_prime(prev_val, coeffs):\n",
    "    return coeffs[\"g\"]*prev_val[\"s\"]*prev_val[\"i\"] - coeffs[\"m\"]*prev_val[\"e\"]\n",
    "\n",
    "def i_prime(prev_val, coeffs):\n",
    "    return coeffs[\"m\"]*prev_val[\"e\"] - coeffs[\"a\"]*prev_val[\"i\"]\n",
    "\n",
    "def r_prime(prev_val, coeffs):\n",
    "    return coeffs[\"a\"]*prev_val[\"i\"]\n",
    "\n",
    "ode = {\"s\": s_prime, \"e\": e_prime, \"i\": i_prime, \"r\": r_prime}\n",
    "\n",
    "# Initial conditions [0,0,0]\n",
    "ode_init = {\"s\": 0.1, \"e\": 0., \"i\": 0.2, \"r\": 0}\n",
    "\n",
    "# Constants (Parameters)\n",
    "ode_train_coeffs = {\"a\": torch.rand(()), \"g\": torch.rand(()), \"m\": torch.rand(())}"
   ],
   "outputs": []
  },
  {
   "cell_type": "code",
   "execution_count": 14,
   "metadata": {},
   "source": [
    "ode_solver_train = ODESolver(\n",
    "    ode=ode,\n",
    "    init_vars=ode_init,\n",
    "    init_coeffs=ode_train_coeffs,\n",
    "    dt=dt,\n",
    "    solver=\"rk4\",\n",
    "    outvar=[\"s\",\"i\",\"r\"],\n",
    "    optimizer=torch.optim.Adam,\n",
    "    optimizer_args={\"lr\": 0.05},\n",
    "    scheduler=torch.optim.lr_scheduler.MultiStepLR,\n",
    "    scheduler_args={\"milestones\": [5],\"gamma\": 0.2}\n",
    ")"
   ],
   "outputs": []
  },
  {
   "cell_type": "code",
   "execution_count": 16,
   "metadata": {},
   "source": [
    "ode_solver_train.fit(\n",
    "    result,\n",
    "    result,\n",
    "    max_epochs=100\n",
    ")"
   ],
   "outputs": []
  },
  {
   "cell_type": "code",
   "execution_count": 17,
   "metadata": {},
   "source": [
    "ode_solver_train.get_coeffs()"
   ],
   "outputs": []
  },
  {
   "cell_type": "markdown",
   "metadata": {},
   "source": [
    "# Predictions for nt = 10000"
   ]
  },
  {
   "cell_type": "code",
   "execution_count": 18,
   "metadata": {},
   "source": [
    "results_test = ode_solver_train(10000)\n",
    "results_test_np = results_test.detach().numpy() # Convert to numpy array\n",
    "\n",
    "# 2D plots\n",
    "plt.plot(results_test_np[:,0])\n",
    "plt.plot(results_test_np[:,1])\n",
    "plt.plot(results_test_np[:,2])\n",
    "\n",
    "plt.legend([\"S\", \"I\", \"R\"])\n",
    "\n",
    "plt.show()"
   ],
   "outputs": []
  },
  {
   "cell_type": "markdown",
   "metadata": {},
   "source": [
    "# Mean Squared Error Loss - Train set (nt = 1000)"
   ]
  },
  {
   "cell_type": "code",
   "execution_count": 19,
   "metadata": {},
   "source": [
    "loss = torch.nn.MSELoss()\n",
    "loss(ode_solver(1000),ode_solver_train(1000))"
   ],
   "outputs": []
  },
  {
   "cell_type": "markdown",
   "metadata": {},
   "source": [
    "# Mean Squared Error Loss - (nt = 2000)"
   ]
  },
  {
   "cell_type": "code",
   "execution_count": 20,
   "metadata": {},
   "source": [
    "loss = torch.nn.MSELoss()\n",
    "loss(ode_solver(2000),ode_solver_train(2000))"
   ],
   "outputs": []
  },
  {
   "cell_type": "code",
   "execution_count": 21,
   "metadata": {},
   "source": [
    "results_test = ode_solver(2000)\n",
    "results_test_np = results_test.detach().numpy() # Convert to numpy array\n",
    "\n",
    "results_preds = ode_solver_train(2000)\n",
    "results_preds_np = results_preds.detach().numpy() # Convert to numpy array\n",
    "\n",
    "# 2D plots\n",
    "plt.plot(results_test_np[:,0], \"b\")\n",
    "plt.plot(results_test_np[:,1], \"g\")\n",
    "plt.plot(results_test_np[:,2], \"r\")\n",
    "\n",
    "# 2D pred plots\n",
    "plt.plot(results_preds_np[:,0], \"darkblue\", linestyle=\"dotted\")\n",
    "plt.plot(results_preds_np[:,1], \"darkgreen\", linestyle=\"dotted\")\n",
    "plt.plot(results_preds_np[:,2], \"darkred\", linestyle=\"dotted\")\n",
    "\n",
    "plt.legend([\"S\", \"I\", \"R\", \"S_pred\", \"I_pred\", \"R_pred\"])\n",
    "\n",
    "plt.show()"
   ],
   "outputs": []
  }
 ],
 "metadata": {
  "interpreter": {
   "hash": "451aa0df4a570cd656587110b6aa2986586cee19fad7a1827a6dda4238079d81"
  },
  "kernelspec": {
   "display_name": "Python 3.9.6 64-bit ('torchTS': conda)",
   "name": "python3"
  },
  "language_info": {
   "codemirror_mode": {
    "name": "ipython",
    "version": 3
   },
   "file_extension": ".py",
   "mimetype": "text/x-python",
   "name": "python",
   "nbconvert_exporter": "python",
   "pygments_lexer": "ipython3",
   "version": "3.9.6"
  }
 },
 "nbformat": 4,
 "nbformat_minor": 2
}
